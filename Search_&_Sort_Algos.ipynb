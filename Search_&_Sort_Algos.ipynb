{
  "nbformat": 4,
  "nbformat_minor": 0,
  "metadata": {
    "colab": {
      "provenance": [],
      "authorship_tag": "ABX9TyND5ntw2gRsK17my1hN4kiT",
      "include_colab_link": true
    },
    "kernelspec": {
      "name": "python3",
      "display_name": "Python 3"
    },
    "language_info": {
      "name": "python"
    }
  },
  "cells": [
    {
      "cell_type": "markdown",
      "metadata": {
        "id": "view-in-github",
        "colab_type": "text"
      },
      "source": [
        "<a href=\"https://colab.research.google.com/github/hongpenggg/h2cp_stuff/blob/main/Search_%26_Sort_Algos.ipynb\" target=\"_parent\"><img src=\"https://colab.research.google.com/assets/colab-badge.svg\" alt=\"Open In Colab\"/></a>"
      ]
    },
    {
      "cell_type": "code",
      "execution_count": null,
      "metadata": {
        "colab": {
          "base_uri": "https://localhost:8080/"
        },
        "id": "5TddMua4U4KU",
        "outputId": "09fe5d1b-b0e1-4b53-9f30-927d34288ee7"
      },
      "outputs": [
        {
          "output_type": "stream",
          "name": "stdout",
          "text": [
            "5\n"
          ]
        }
      ],
      "source": [
        "# Linear Search\n",
        "\n",
        "def linear(arr, tgt):\n",
        "  if tgt in arr:\n",
        "    for item in arr:\n",
        "      if item == tgt:\n",
        "        return arr.index(item)\n",
        "  else:\n",
        "    return -1\n",
        "\n",
        "print(linear([1,2,4,5,7,9,22,45,78], 9))"
      ]
    },
    {
      "cell_type": "code",
      "source": [
        "# Binary Search\n",
        "\n",
        "def binary(arr, tgt):\n",
        "  if tgt not in arr:\n",
        "    return -1\n",
        "  else:\n",
        "    low = 0\n",
        "    high = len(arr)-1\n",
        "    mid = len(arr)//2\n",
        "    while low <= high:\n",
        "      if arr[low] == tgt:\n",
        "        return low\n",
        "      elif arr[mid] == tgt:\n",
        "        return mid\n",
        "      elif arr[high] == tgt:\n",
        "        return high\n",
        "      else:\n",
        "        if tgt < arr[mid]:\n",
        "          high = mid\n",
        "          mid = mid - len(arr[:high+1:])//2\n",
        "        else:\n",
        "          low = mid\n",
        "          mid = mid + len(arr[low+1::])//2\n",
        "\n",
        "print(binary([1,2,4,5,7,9,22,45,78], 9))"
      ],
      "metadata": {
        "colab": {
          "base_uri": "https://localhost:8080/"
        },
        "id": "SOEZpBEPVdC0",
        "outputId": "468e9063-0133-4368-d24b-59b87934ad17"
      },
      "execution_count": null,
      "outputs": [
        {
          "output_type": "stream",
          "name": "stdout",
          "text": [
            "5\n"
          ]
        }
      ]
    },
    {
      "cell_type": "code",
      "source": [
        "# Driver code for the sort algos\n",
        "\n",
        "import random\n",
        "\n",
        "res = random.sample(range(1, 50), 30)\n",
        "\n",
        "print(res)"
      ],
      "metadata": {
        "id": "MiYeg17dtPiu",
        "colab": {
          "base_uri": "https://localhost:8080/"
        },
        "outputId": "d868dfd1-5a3d-49c1-c52b-8e92b22f2fab"
      },
      "execution_count": null,
      "outputs": [
        {
          "output_type": "stream",
          "name": "stdout",
          "text": [
            "[45, 47, 10, 41, 37, 44, 39, 3, 29, 49, 34, 18, 31, 33, 15, 27, 40, 24, 32, 43, 8, 36, 5, 28, 4, 20, 11, 35, 19, 42]\n"
          ]
        }
      ]
    },
    {
      "cell_type": "code",
      "source": [
        "# Bubble Sort\n",
        "\n",
        "def bubble(arr, order):\n",
        "  ascending = True\n",
        "  if order == \"descending\":\n",
        "    ascending = False\n",
        "\n",
        "  for i in range(len(arr)):\n",
        "    for j in range(len(arr)-i-1):\n",
        "      if arr[j] > arr[j+1]:\n",
        "        arr[j], arr[j+1] = arr[j+1], arr[j]\n",
        "\n",
        "  if ascending == False:\n",
        "    arr = arr[::-1]\n",
        "\n",
        "  return arr\n",
        "\n",
        "print(bubble(res, \"ascending\"))\n",
        "print(bubble(res, \"descending\"))"
      ],
      "metadata": {
        "colab": {
          "base_uri": "https://localhost:8080/"
        },
        "id": "XM63STeMYGzn",
        "outputId": "f78dc99f-fc82-48ed-97f9-9987da33d18e"
      },
      "execution_count": null,
      "outputs": [
        {
          "output_type": "stream",
          "name": "stdout",
          "text": [
            "[2, 3, 6, 7, 8, 10, 11, 12, 14, 15, 17, 20, 21, 22, 23, 25, 28, 30, 31, 34, 35, 37, 38, 39, 40, 41, 42, 43, 46, 48]\n",
            "[48, 46, 43, 42, 41, 40, 39, 38, 37, 35, 34, 31, 30, 28, 25, 23, 22, 21, 20, 17, 15, 14, 12, 11, 10, 8, 7, 6, 3, 2]\n"
          ]
        }
      ]
    },
    {
      "cell_type": "code",
      "source": [
        "# Optimised Bubble Sort\n",
        "\n",
        "def optibubble(arr, order):\n",
        "  ascending = True\n",
        "  if order == \"descending\":\n",
        "    ascending = False\n",
        "  swapped = False\n",
        "\n",
        "  for i in range(len(arr)):\n",
        "    for j in range(len(arr)-i-1):\n",
        "      if arr[j] > arr[j+1]:\n",
        "        arr[j], arr[j+1] = arr[j+1], arr[j]\n",
        "        swapped = True\n",
        "\n",
        "  if ascending == False:\n",
        "    arr = arr[::-1]\n",
        "\n",
        "  if not swapped:\n",
        "    return arr\n",
        "\n",
        "  return arr\n",
        "\n",
        "print(optibubble(res, \"ascending\"))\n",
        "print(optibubble(res, \"descending\"))\n",
        "print(optibubble([1, 4, 5, 7, 8, 11, 13, 14, 15, 16, 17, 18, 19, 20, 25, 26, 27, 28, 30, 32, 33, 36, 40, 41, 43, 45, 46, 47, 48, 49], \"ascending\"))"
      ],
      "metadata": {
        "colab": {
          "base_uri": "https://localhost:8080/"
        },
        "id": "A9Qh8XQobNr0",
        "outputId": "5067927b-c4f2-4f5c-e740-f8f96a837491"
      },
      "execution_count": null,
      "outputs": [
        {
          "output_type": "stream",
          "name": "stdout",
          "text": [
            "[2, 3, 6, 7, 8, 10, 11, 12, 14, 15, 17, 20, 21, 22, 23, 25, 28, 30, 31, 34, 35, 37, 38, 39, 40, 41, 42, 43, 46, 48]\n",
            "[48, 46, 43, 42, 41, 40, 39, 38, 37, 35, 34, 31, 30, 28, 25, 23, 22, 21, 20, 17, 15, 14, 12, 11, 10, 8, 7, 6, 3, 2]\n",
            "[1, 4, 5, 7, 8, 11, 13, 14, 15, 16, 17, 18, 19, 20, 25, 26, 27, 28, 30, 32, 33, 36, 40, 41, 43, 45, 46, 47, 48, 49]\n"
          ]
        }
      ]
    },
    {
      "cell_type": "code",
      "source": [
        "# Insertion Sort\n",
        "# This one might not work, idk.\n",
        "def insertion(arr, order):\n",
        "  ascending = True\n",
        "  if order == \"descending\":\n",
        "    ascending = False\n",
        "  i = 0\n",
        "  while i+1 < len(arr):\n",
        "    swapped = False\n",
        "    if arr[i]<arr[i+1]:\n",
        "      swapped = True\n",
        "    else:\n",
        "      swapped = False\n",
        "    if not swapped:\n",
        "      swappedList = arr[:i+1:]\n",
        "      new_val = arr[i+1]\n",
        "      for item in swappedList:\n",
        "        if item > new_val:\n",
        "          indice = swappedList.index(item)\n",
        "          swappedList = swappedList[:indice-1:] + [item] + swappedList[indice::]\n",
        "      arr = swappedList[::] + arr[i+1::]\n",
        "    i += 1\n",
        "  if not ascending:\n",
        "    return arr[::-1]\n",
        "  return arr\n",
        "\n",
        "# Other method:\n",
        "\n",
        "def insertion_new(arr):\n",
        "    # Traverse through 1 to len(arr)\n",
        "    for i in range(1, len(arr)):\n",
        "        key = arr[i]\n",
        "        j = i - 1\n",
        "\n",
        "        # Move elements of arr[0..i-1], that are greater than key, to one position ahead of their current position\n",
        "        while j >= 0 and arr[j] > key:\n",
        "            arr[j + 1] = arr[j]\n",
        "            j -= 1\n",
        "\n",
        "        arr[j + 1] = key\n",
        "\n",
        "    return arr\n",
        "\n",
        "# Yet another method\n",
        "\n",
        "def another_insertion(arr:list) -> list:\n",
        "  sorted = []\n",
        "  for i in range(len(arr)):\n",
        "    if len(sorted) < 2:\n",
        "      sorted.append(arr[i])\n",
        "    else:\n",
        "      for j in range(len(sorted)):\n",
        "        if arr[i] < sorted[0]:\n",
        "          sorted = [arr[i]] + sorted\n",
        "          break\n",
        "        elif arr[i] > sorted[-1]:\n",
        "          sorted.append(arr[i])\n",
        "          break\n",
        "        elif arr[i] < sorted[j]:\n",
        "          sorted = sorted[:j:] + [arr[i]] + sorted[j::]\n",
        "          break\n",
        "  return sorted\n",
        "\n",
        "# print(insertion(res, \"ascending\"))\n",
        "# print(insertion(res, \"descending\"))\n",
        "# print(len(insertion(res, \"ascending\")))\n",
        "print(insertion_new(res))\n",
        "print(another_insertion(res))"
      ],
      "metadata": {
        "id": "V-wyTRFdtzJY",
        "colab": {
          "base_uri": "https://localhost:8080/"
        },
        "outputId": "ef80e1bd-6e83-48ce-aea6-5eb9d941617a"
      },
      "execution_count": null,
      "outputs": [
        {
          "output_type": "stream",
          "name": "stdout",
          "text": [
            "[3, 4, 5, 8, 10, 11, 15, 18, 19, 20, 24, 27, 28, 29, 31, 32, 33, 34, 35, 36, 37, 39, 40, 41, 42, 43, 44, 45, 47, 49]\n",
            "[3, 4, 5, 8, 10, 11, 15, 18, 19, 20, 24, 27, 28, 29, 31, 32, 33, 34, 35, 36, 37, 39, 40, 41, 42, 43, 44, 45, 47, 49]\n"
          ]
        }
      ]
    },
    {
      "cell_type": "code",
      "source": [
        "# Merge Sort\n",
        "\n",
        "def merge(arr1, arr2):\n",
        "  ans = []\n",
        "  i = 0\n",
        "  j = 0\n",
        "\n",
        "  while i < len(arr1) and j < len(arr2):\n",
        "    if arr1[i] < arr2[j]:\n",
        "      ans.append(arr1[i])\n",
        "      i += 1\n",
        "    else:\n",
        "      ans.append(arr2[j])\n",
        "      j += 1\n",
        "\n",
        "  if i < len(arr1):\n",
        "    ans = ans + arr1[i::]\n",
        "  elif j < len(arr2):\n",
        "    ans = ans + arr2[j::]\n",
        "\n",
        "  return ans\n",
        "\n",
        "def mergesort(arr):\n",
        "  mid = len(arr)//2\n",
        "  a1 = arr[:mid:]\n",
        "  a2 = arr[mid::]\n",
        "  if len(arr) > 1:\n",
        "    s1 = mergesort(a1)\n",
        "    s2 = mergesort(a2)\n",
        "    return merge(s1, s2)\n",
        "  return merge(a1, a2)\n",
        "\n",
        "def main(arr, order):\n",
        "  ascending = True\n",
        "  arr = mergesort(arr)\n",
        "  if order == \"descending\":\n",
        "    ascending = False\n",
        "    return arr[::-1]\n",
        "  return arr[::]\n",
        "\n",
        "# print(merge([1,3,5,7,9], [2,4,6,8,10,12,14,16]))\n",
        "print(main(res, \"ascending\"))\n",
        "print(main(res, \"descending\"))"
      ],
      "metadata": {
        "colab": {
          "base_uri": "https://localhost:8080/"
        },
        "id": "kv768-rgg6ov",
        "outputId": "3168e955-aef8-4ce2-f019-bae545b98dbe"
      },
      "execution_count": null,
      "outputs": [
        {
          "output_type": "stream",
          "name": "stdout",
          "text": [
            "[2, 3, 6, 9, 12, 13, 15, 16, 18, 19, 20, 21, 22, 23, 24, 27, 29, 33, 34, 36, 38, 39, 40, 41, 42, 43, 44, 45, 48, 49]\n",
            "[49, 48, 45, 44, 43, 42, 41, 40, 39, 38, 36, 34, 33, 29, 27, 24, 23, 22, 21, 20, 19, 18, 16, 15, 13, 12, 9, 6, 3, 2]\n"
          ]
        }
      ]
    },
    {
      "cell_type": "code",
      "source": [
        "# Out of Place Quicksort\n",
        "\n",
        "def out_quick(arr):\n",
        "  if not arr:\n",
        "    return []\n",
        "  pos = len(arr)//2\n",
        "  pivot = arr[pos]\n",
        "  less = []\n",
        "  more = []\n",
        "  mid = [pivot]\n",
        "  for item in arr:\n",
        "    if item < pivot:\n",
        "      less.append(item)\n",
        "    elif item > pivot:\n",
        "      more.append(item)\n",
        "    else:\n",
        "      mid.append(item)\n",
        "      if len(mid)>1:\n",
        "        mid = mid[:-1:]\n",
        "  return out_quick(less) + mid + out_quick(more)\n",
        "\n",
        "print(out_quick(res))"
      ],
      "metadata": {
        "id": "k4rmOfFLuVkF",
        "colab": {
          "base_uri": "https://localhost:8080/"
        },
        "outputId": "1551b68e-8c3c-407e-d9a0-319a24e909a2"
      },
      "execution_count": null,
      "outputs": [
        {
          "output_type": "stream",
          "name": "stdout",
          "text": [
            "[2, 3, 6, 9, 12, 13, 15, 16, 18, 19, 20, 21, 22, 23, 24, 27, 29, 33, 34, 36, 38, 39, 40, 41, 42, 43, 44, 45, 48, 49]\n"
          ]
        }
      ]
    },
    {
      "cell_type": "code",
      "source": [
        "# In Place Quicksort\n",
        "\n",
        "def in_quick(arr, first, last):\n",
        "    if first >= last:\n",
        "        return\n",
        "\n",
        "    pivot = arr[last]\n",
        "    left = first\n",
        "    right = last - 1\n",
        "\n",
        "    while left <= right:\n",
        "        while left <= right and arr[left] < pivot:\n",
        "            left += 1\n",
        "\n",
        "        while left <= right and pivot <= arr[right]:\n",
        "            right -= 1\n",
        "\n",
        "        if left <= right:\n",
        "            arr[left], arr[right] = arr[right], arr[left] #swap values\n",
        "            left, right = left + 1, right - 1\n",
        "\n",
        "    arr[left], arr[last] = arr[last], arr[left]\n",
        "\n",
        "    in_quick(arr, first, left - 1)\n",
        "    in_quick(arr, left + 1, last)\n",
        "\n",
        "lst = [45,23,78,36,3,6,2,4,9,7,1,87,25,26]\n",
        "in_quick(lst, 0, 13)\n",
        "print(lst)"
      ],
      "metadata": {
        "id": "6oqhXKwLuTUO",
        "colab": {
          "base_uri": "https://localhost:8080/"
        },
        "outputId": "0c091a9f-ade5-4487-804c-dfa8b6250a30"
      },
      "execution_count": null,
      "outputs": [
        {
          "output_type": "stream",
          "name": "stdout",
          "text": [
            "[1, 2, 3, 4, 6, 7, 9, 23, 25, 26, 36, 45, 78, 87]\n"
          ]
        }
      ]
    },
    {
      "cell_type": "code",
      "source": [
        "# Notes / Radix Sort / Heap Sort / Bucket Sort\n",
        "\n",
        "from copy import deepcopy\n",
        "\n",
        "dict = {}\n",
        "\n",
        "def stalin_sort(arr:list):\n",
        "  gulag = []\n",
        "  prison_no = []\n",
        "  saved_arr = deepcopy(arr)\n",
        "  dict[\"original array\"] = saved_arr\n",
        "\n",
        "  for i in range(1, len(arr)):\n",
        "    if arr[i-1] > arr[i]:\n",
        "      gulag.append(arr[i-1])\n",
        "      prison_no.append(i-1)\n",
        "\n",
        "  dict[\"gulag\"] = gulag\n",
        "  dict[\"gulag numbers\"] = prison_no\n",
        "\n",
        "  for item in arr:\n",
        "    if item in gulag:\n",
        "      arr.remove(item)\n",
        "\n",
        "  j = 0\n",
        "  while j < len(gulag):\n",
        "    for k in range(len(arr)):\n",
        "      if arr[k] > gulag[j]:\n",
        "        arr = arr[:k:] + [gulag[j]] + arr[k::]\n",
        "        break\n",
        "    j += 1\n",
        "\n",
        "  dict[\"sorted array\"] = arr\n",
        "\n",
        "  return dict\n",
        "\n",
        "df = stalin_sort([1,4,2,65,3,8,9,45,12,46,78,29,96,145,252,463,232,887,345])\n",
        "print(len(df[\"original array\"]))\n",
        "for key in df:\n",
        "  print(key, df[key])\n",
        "print(len(df[\"sorted array\"]))"
      ],
      "metadata": {
        "id": "VtB94HhSuY9N",
        "colab": {
          "base_uri": "https://localhost:8080/"
        },
        "outputId": "a3e65189-efb4-4bbf-a995-02629da1ea91"
      },
      "execution_count": null,
      "outputs": [
        {
          "output_type": "stream",
          "name": "stdout",
          "text": [
            "19\n",
            "original array [1, 4, 2, 65, 3, 8, 9, 45, 12, 46, 78, 29, 96, 145, 252, 463, 232, 887, 345]\n",
            "gulag [4, 65, 45, 78, 463, 887]\n",
            "gulag numbers [1, 3, 7, 10, 15, 17]\n",
            "sorted array [1, 2, 3, 4, 8, 9, 12, 45, 46, 29, 65, 78, 96, 145, 252, 232, 345]\n",
            "17\n"
          ]
        }
      ]
    },
    {
      "cell_type": "code",
      "source": [
        "import numpy as np\n",
        "import matplotlib.pyplot as plt\n",
        "\n",
        "# Define the datasets\n",
        "no_of_students = [5, 6, 25, 11, 30, 4, 6, 10, 14, 18, 20, 22, 2, 11, 16]\n",
        "marks_obtained = [40, 60, 70, 65, 80, 50, 55, 75, 90, 45, 40, 95, 100, 35, 25]\n",
        "\n",
        "# Create the scatterplot graph\n",
        "plt.scatter(no_of_students, marks_obtained)\n",
        "\n",
        "# Add labels and title\n",
        "plt.xlabel('No of students')\n",
        "plt.ylabel('Marks Obtained')\n",
        "plt.title('Scatterplot of No of students vs Marks Obtained')\n",
        "\n",
        "# Show the graph\n",
        "plt.show()"
      ],
      "metadata": {
        "id": "MxAztg4KbtLd",
        "outputId": "90ccbd6d-6ceb-4101-9cf3-ad62474e5fad",
        "colab": {
          "base_uri": "https://localhost:8080/",
          "height": 472
        }
      },
      "execution_count": null,
      "outputs": [
        {
          "output_type": "display_data",
          "data": {
            "text/plain": [
              "<Figure size 640x480 with 1 Axes>"
            ],
            "image/png": "[encoded data removed]"
          },
          "metadata": {}
        }
      ]
    }
  ]
}